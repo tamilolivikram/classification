{
 "cells": [
  {
   "cell_type": "code",
   "execution_count": 3,
   "id": "1725309c-6dc1-4b21-b404-fa3825f3f26b",
   "metadata": {},
   "outputs": [],
   "source": [
    "import pickle\n"
   ]
  },
  {
   "cell_type": "code",
   "execution_count": 4,
   "id": "0ef3ad4f-1d0d-41ce-8351-cab14c9cc3d4",
   "metadata": {},
   "outputs": [
    {
     "name": "stdin",
     "output_type": "stream",
     "text": [
      "Age: 5\n",
      "bp: 76\n",
      "al: 1\n",
      "su: 0\n",
      "bgr: 148\n",
      "bu: 16\n",
      "sc: 0\n",
      "sod: 138\n",
      "pot: 3\n",
      "hrmo: 8\n",
      "pcv: 38\n",
      "wc: 8408\n",
      "rc: 4\n",
      "sg_b: 0\n",
      "sg_c: 0\n",
      "sg_d: 1\n",
      "sg_e: 0\n",
      "rbc_normal 0 or 1: 1\n",
      "pc_normal 0 or 1: 1\n",
      "pcc_present 0 or 1: 0\n",
      "ba_present 0 or 1: 0\n",
      "htn_yes 0 or 1: 0\n",
      "dm_yes 0 or 1: 0\n",
      "cad_yes 0 or 1: 0\n",
      "appet_yes 0 or 1: 1\n",
      "pe_yes 0 or 1: 0\n",
      "ane_yes 0 or 1: 1\n"
     ]
    }
   ],
   "source": [
    "age_input=float(input(\"Age:\"))\n",
    "bp_input=float(input(\"bp:\"))\n",
    "al_input=float(input(\"al:\"))\n",
    "su_input=float(input(\"su:\"))\n",
    "bgr_input=float(input(\"bgr:\"))\n",
    "bu_input=float(input(\"bu:\"))\n",
    "sc_input=float(input(\"sc:\"))\n",
    "sod_input=float(input(\"sod:\"))\n",
    "pot_input=float(input(\"pot:\"))\n",
    "hrmo_input=float(input(\"hrmo:\"))\n",
    "pcv_input=float(input(\"pcv:\"))\n",
    "wc_input=float(input(\"wc:\"))\n",
    "rc_input=float(input(\"rc:\"))\n",
    "sg_b_input=float(input(\"sg_b:\"))\n",
    "sg_c_input=float(input(\"sg_c:\"))\n",
    "sg_d_input=float(input(\"sg_d:\"))\n",
    "sg_e_input=float(input(\"sg_e:\"))\n",
    "rbc_normal_input=int(input(\"rbc_normal 0 or 1:\"))\n",
    "pc_normal_input=int(input(\"pc_normal 0 or 1:\"))\n",
    "pcc_present_input=int(input(\"pcc_present 0 or 1:\"))\n",
    "ba_present_input=int(input(\"ba_present 0 or 1:\"))\n",
    "htn_yes_input=int(input(\"htn_yes 0 or 1:\"))\n",
    "dm_yes_input=int(input(\"dm_yes 0 or 1:\"))\n",
    "cad_yes_input=int(input(\"cad_yes 0 or 1:\"))\n",
    "appet_yes_input=int(input(\"appet_yes 0 or 1:\"))\n",
    "pe_yes_input=int(input(\"pe_yes 0 or 1:\"))\n",
    "ane_yes_input=int(input(\"ane_yes 0 or 1:\"))"
   ]
  },
  {
   "cell_type": "code",
   "execution_count": 5,
   "id": "ee1eb1c6-d591-4517-9914-1fd4e28bc404",
   "metadata": {},
   "outputs": [
    {
     "name": "stderr",
     "output_type": "stream",
     "text": [
      "E:\\anacoda3\\Lib\\site-packages\\sklearn\\base.py:493: UserWarning: X does not have valid feature names, but GaussianNB was fitted with feature names\n",
      "  warnings.warn(\n"
     ]
    }
   ],
   "source": [
    "loaded_model=pickle.load(open(\"finalized_model_classification.sav\",'rb'))\n",
    "result=loaded_model.predict([[age_input,bp_input,al_input,su_input,bgr_input,bu_input,sc_input,sod_input,pot_input,hrmo_input,pcv_input,wc_input, rc_input,sg_b_input,sg_c_input,sg_d_input,sg_e_input,rbc_normal_input,pc_normal_input,pcc_present_input,ba_present_input,htn_yes_input,dm_yes_input, cad_yes_input,appet_yes_input,pe_yes_input,ane_yes_input]])"
   ]
  },
  {
   "cell_type": "code",
   "execution_count": 6,
   "id": "e5aee19e-7200-4c56-932c-43d30f619ee1",
   "metadata": {},
   "outputs": [
    {
     "data": {
      "text/plain": [
       "array([1])"
      ]
     },
     "execution_count": 6,
     "metadata": {},
     "output_type": "execute_result"
    }
   ],
   "source": [
    "result"
   ]
  },
  {
   "cell_type": "code",
   "execution_count": null,
   "id": "e8b63974-a290-4eec-8349-f692465baab4",
   "metadata": {},
   "outputs": [],
   "source": []
  }
 ],
 "metadata": {
  "kernelspec": {
   "display_name": "Python 3 (ipykernel)",
   "language": "python",
   "name": "python3"
  },
  "language_info": {
   "codemirror_mode": {
    "name": "ipython",
    "version": 3
   },
   "file_extension": ".py",
   "mimetype": "text/x-python",
   "name": "python",
   "nbconvert_exporter": "python",
   "pygments_lexer": "ipython3",
   "version": "3.12.7"
  }
 },
 "nbformat": 4,
 "nbformat_minor": 5
}
